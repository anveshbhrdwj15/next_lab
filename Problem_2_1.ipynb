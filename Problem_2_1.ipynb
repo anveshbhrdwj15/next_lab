{
 "cells": [
  {
   "cell_type": "markdown",
   "id": "bee909df",
   "metadata": {},
   "source": [
    "\"\"\"\n",
    "References:\n",
    "https://github.com/sunilchomal/GECwBERT/blob/master/BERT_GED_Model.ipynb\n",
    "https://colab.research.google.com/drive/1vaPCdmdYojxCCnZQs1r4CC57Lof_GGVj?usp=sharing#scrollTo=ZDoyjyA79C9h\n",
    "https://analyticsindiamag.com/how-to-use-bert-transformer-for-grammar-checking/\n",
    "\n",
    "\n",
    "\"\"\""
   ]
  },
  {
   "cell_type": "code",
   "execution_count": null,
   "id": "dbd28157",
   "metadata": {},
   "outputs": [],
   "source": [
    "\"\"\"\n",
    "Important:\n",
    "\n",
    "Need Transformers version of 2.11 to run\n",
    "\n",
    "\"\"\""
   ]
  },
  {
   "cell_type": "code",
   "execution_count": 1,
   "id": "4740c0a9",
   "metadata": {},
   "outputs": [],
   "source": [
    "#Import required libraries\n",
    "import pandas as pd\n",
    "import numpy as np\n",
    "from transformers import BertTokenizer"
   ]
  },
  {
   "cell_type": "code",
   "execution_count": 2,
   "id": "afadfa90",
   "metadata": {},
   "outputs": [],
   "source": [
    "#Import data\n",
    "data = pd.read_csv(\"review_data.csv\")"
   ]
  },
  {
   "cell_type": "code",
   "execution_count": null,
   "id": "4b2594f7",
   "metadata": {},
   "outputs": [],
   "source": [
    "#data['text']"
   ]
  },
  {
   "cell_type": "code",
   "execution_count": 5,
   "id": "01c56b66",
   "metadata": {},
   "outputs": [],
   "source": [
    "#data cleaning\n",
    "import re\n",
    "import string\n",
    "def text_cleaning(text):\n",
    "    '''\n",
    "    Input: Text that needs to be cleaned\n",
    "    This function Make text lowercase, remove text in square brackets,remove punctuation\n",
    "    and remove words containing numbers.\n",
    "    Output: Cleaned text\n",
    "    '''\n",
    "    \n",
    "    text = str(text).lower()\n",
    "    text = re.sub('\\[.*?\\]', '', text)\n",
    "    text = re.sub('<.*?>+', '', text)\n",
    "    text = re.sub('[%s]' % re.escape(string.punctuation), '', text)\n",
    "    text = re.sub('\\n', '', text)\n",
    "    text = re.sub('\\w*\\d\\w*', '', text)\n",
    "    return text\n",
    "data['text'] = data['text'].apply(lambda x:text_cleaning(x))"
   ]
  },
  {
   "cell_type": "code",
   "execution_count": 6,
   "id": "a8eb1e5e",
   "metadata": {},
   "outputs": [
    {
     "data": {
      "application/vnd.jupyter.widget-view+json": {
       "model_id": "3e9aacb8f84e494fa5835640d20b6430",
       "version_major": 2,
       "version_minor": 0
      },
      "text/plain": [
       "Downloading:   0%|          | 0.00/440M [00:00<?, ?B/s]"
      ]
     },
     "metadata": {},
     "output_type": "display_data"
    },
    {
     "data": {
      "text/plain": [
       "<All keys matched successfully>"
      ]
     },
     "execution_count": 6,
     "metadata": {},
     "output_type": "execute_result"
    }
   ],
   "source": [
    "from transformers import BertForSequenceClassification, AdamW, BertConfig\n",
    "import torch\n",
    "#Importing pre-trained model\n",
    "tokenizer = BertTokenizer.from_pretrained('bert-large-uncased', do_lower_case = True)\n",
    "model = BertForSequenceClassification.from_pretrained(\n",
    "            \"bert-base-uncased\", num_labels = 2)\n",
    "model.load_state_dict(torch.load('bert-based-uncased-GED.pth',map_location=torch.device('cpu')))\n"
   ]
  },
  {
   "cell_type": "code",
   "execution_count": null,
   "id": "2d08f187",
   "metadata": {},
   "outputs": [],
   "source": []
  },
  {
   "cell_type": "code",
   "execution_count": 7,
   "id": "9d247057",
   "metadata": {},
   "outputs": [],
   "source": [
    "\n",
    "def prediction(sent):\n",
    "    \n",
    "    \"\"\"\n",
    "    Input: sentence\n",
    "    \n",
    "    This function encodes the input sentence, uses model defined and predicts if the sentence\n",
    "    is gramatically correct or not   \n",
    "    \n",
    "    Output: gives if the input text is gramatically correcxt or not\n",
    "    \"\"\"\n",
    "    encoded_dict = tokenizer.encode_plus(\n",
    "                        sent,                      # Sentence to encode.\n",
    "                        add_special_tokens = True, # Add '[CLS]' and '[SEP]'\n",
    "                        truncation = True,           # Pad & truncate all sentences.\n",
    "                        padding = 'longest',\n",
    "                        return_attention_mask = True,   # Construct attn. masks.\n",
    "                        return_tensors = 'pt',     # Return pytorch tensors.\n",
    "                   )\n",
    "    \n",
    "    # Add the encoded sentence to the list.    \n",
    "    input_id = encoded_dict['input_ids']\n",
    "    \n",
    "    # And its attention mask (simply differentiates padding from non-padding).\n",
    "    attention_mask = encoded_dict['attention_mask']\n",
    "    input_id = torch.LongTensor(input_id)\n",
    "    attention_mask = torch.LongTensor(attention_mask)\n",
    "    outputs = model(input_id, token_type_ids=None, attention_mask=attention_mask)\n",
    "\n",
    "    logits = outputs[0]\n",
    "    index = logits.argmax()\n",
    "    if index == 1:\n",
    "        return (\"Gramatically correct\")\n",
    "    else:\n",
    "        return (\"Gramatically in-correct\")"
   ]
  },
  {
   "cell_type": "code",
   "execution_count": 8,
   "id": "d953165d",
   "metadata": {},
   "outputs": [],
   "source": [
    "#applying prediction function to text column of the dataset\n",
    "\n",
    "data['prediction'] = data['text'].apply(lambda x:prediction(x))\n",
    "\n"
   ]
  },
  {
   "cell_type": "code",
   "execution_count": 9,
   "id": "6d31a1dc",
   "metadata": {},
   "outputs": [
    {
     "data": {
      "text/html": [
       "<div>\n",
       "<style scoped>\n",
       "    .dataframe tbody tr th:only-of-type {\n",
       "        vertical-align: middle;\n",
       "    }\n",
       "\n",
       "    .dataframe tbody tr th {\n",
       "        vertical-align: top;\n",
       "    }\n",
       "\n",
       "    .dataframe thead th {\n",
       "        text-align: right;\n",
       "    }\n",
       "</style>\n",
       "<table border=\"1\" class=\"dataframe\">\n",
       "  <thead>\n",
       "    <tr style=\"text-align: right;\">\n",
       "      <th></th>\n",
       "      <th>text</th>\n",
       "      <th>prediction</th>\n",
       "    </tr>\n",
       "  </thead>\n",
       "  <tbody>\n",
       "    <tr>\n",
       "      <th>0</th>\n",
       "      <td>anathi khanyile</td>\n",
       "      <td>Gramatically correct</td>\n",
       "    </tr>\n",
       "    <tr>\n",
       "      <th>1</th>\n",
       "      <td>tony bahut funny hai hill climbing racing my f...</td>\n",
       "      <td>Gramatically in-correct</td>\n",
       "    </tr>\n",
       "    <tr>\n",
       "      <th>2</th>\n",
       "      <td>teturwu</td>\n",
       "      <td>Gramatically correct</td>\n",
       "    </tr>\n",
       "    <tr>\n",
       "      <th>3</th>\n",
       "      <td>hoooooooooooyaaaaaaaaa what a game hoooooooooo...</td>\n",
       "      <td>Gramatically in-correct</td>\n",
       "    </tr>\n",
       "    <tr>\n",
       "      <th>4</th>\n",
       "      <td>this game is nice</td>\n",
       "      <td>Gramatically correct</td>\n",
       "    </tr>\n",
       "    <tr>\n",
       "      <th>...</th>\n",
       "      <td>...</td>\n",
       "      <td>...</td>\n",
       "    </tr>\n",
       "    <tr>\n",
       "      <th>29995</th>\n",
       "      <td>plz my vidos viral</td>\n",
       "      <td>Gramatically in-correct</td>\n",
       "    </tr>\n",
       "    <tr>\n",
       "      <th>29996</th>\n",
       "      <td>nice</td>\n",
       "      <td>Gramatically correct</td>\n",
       "    </tr>\n",
       "    <tr>\n",
       "      <th>29997</th>\n",
       "      <td>disturbing too much as youtube ad</td>\n",
       "      <td>Gramatically in-correct</td>\n",
       "    </tr>\n",
       "    <tr>\n",
       "      <th>29998</th>\n",
       "      <td>koub valo vai</td>\n",
       "      <td>Gramatically correct</td>\n",
       "    </tr>\n",
       "    <tr>\n",
       "      <th>29999</th>\n",
       "      <td>i want to grow my account</td>\n",
       "      <td>Gramatically correct</td>\n",
       "    </tr>\n",
       "  </tbody>\n",
       "</table>\n",
       "<p>30000 rows × 2 columns</p>\n",
       "</div>"
      ],
      "text/plain": [
       "                                                    text  \\\n",
       "0                                        anathi khanyile   \n",
       "1      tony bahut funny hai hill climbing racing my f...   \n",
       "2                                                teturwu   \n",
       "3      hoooooooooooyaaaaaaaaa what a game hoooooooooo...   \n",
       "4                                      this game is nice   \n",
       "...                                                  ...   \n",
       "29995                                 plz my vidos viral   \n",
       "29996                                               nice   \n",
       "29997                  disturbing too much as youtube ad   \n",
       "29998                                      koub valo vai   \n",
       "29999                          i want to grow my account   \n",
       "\n",
       "                    prediction  \n",
       "0         Gramatically correct  \n",
       "1      Gramatically in-correct  \n",
       "2         Gramatically correct  \n",
       "3      Gramatically in-correct  \n",
       "4         Gramatically correct  \n",
       "...                        ...  \n",
       "29995  Gramatically in-correct  \n",
       "29996     Gramatically correct  \n",
       "29997  Gramatically in-correct  \n",
       "29998     Gramatically correct  \n",
       "29999     Gramatically correct  \n",
       "\n",
       "[30000 rows x 2 columns]"
      ]
     },
     "execution_count": 9,
     "metadata": {},
     "output_type": "execute_result"
    }
   ],
   "source": [
    "data[['text','prediction']]"
   ]
  },
  {
   "cell_type": "code",
   "execution_count": null,
   "id": "ae34b88b",
   "metadata": {},
   "outputs": [],
   "source": []
  }
 ],
 "metadata": {
  "kernelspec": {
   "display_name": "Python 3",
   "language": "python",
   "name": "python3"
  },
  "language_info": {
   "codemirror_mode": {
    "name": "ipython",
    "version": 3
   },
   "file_extension": ".py",
   "mimetype": "text/x-python",
   "name": "python",
   "nbconvert_exporter": "python",
   "pygments_lexer": "ipython3",
   "version": "3.8.8"
  }
 },
 "nbformat": 4,
 "nbformat_minor": 5
}
